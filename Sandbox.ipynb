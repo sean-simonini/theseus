{
 "cells": [
  {
   "cell_type": "markdown",
   "metadata": {},
   "source": [
    "This is a markdown\n",
    "\n",
    "CLI CODES:\n",
    "pip install paper-qa\n",
    "\n",
    "pip install litellm\n",
    "\n",
    "nohup litellm --model gpt-3.5-turbo > litellm.log 2>&1 &"
   ]
  },
  {
   "cell_type": "code",
   "execution_count": null,
   "metadata": {},
   "outputs": [],
   "source": []
  }
 ],
 "metadata": {
  "language_info": {
   "name": "python"
  }
 },
 "nbformat": 4,
 "nbformat_minor": 2
}
